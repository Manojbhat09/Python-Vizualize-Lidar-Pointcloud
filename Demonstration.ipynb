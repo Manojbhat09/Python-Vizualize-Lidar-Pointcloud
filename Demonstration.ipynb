{
 "cells": [
  {
   "cell_type": "code",
   "execution_count": 1,
   "metadata": {},
   "outputs": [],
   "source": [
    "from pyntcloud import PyntCloud\n",
    "from pyntcloud.io import bin as io_bin\n",
    "import numpy as np\n",
    "import pandas as pd\n",
    "import os\n",
    "\n",
    "from pythreejs import *\n",
    "import numpy as np\n",
    "from IPython.display import display\n",
    "from ipywidgets import HTML, Text, Output, VBox\n",
    "from traitlets import link, dlink"
   ]
  },
  {
   "cell_type": "code",
   "execution_count": 2,
   "metadata": {},
   "outputs": [],
   "source": [
    "VELODYNE_HEIGHT = 1.73\n",
    "\n",
    "def extractBB(label,gt=True):\n",
    "    label_split = label.split(\" \")\n",
    "    if gt:\n",
    "        return label_split[0],float(label_split[-7]),float(label_split[-6]),float(label_split[-5]),float(label_split[-4]),float(label_split[-3]),float(label_split[-2]),float(label_split[-1])\n",
    "    else:\n",
    "        return label_split[0],float(label_split[-8]),float(label_split[-7]),float(label_split[-6]),float(label_split[-5]),float(label_split[-4]),float(label_split[-3]),float(label_split[-2])\n",
    "    \n",
    "def getCorners(height,width,length,x,y,z,θ,rotation=True):\n",
    "    \n",
    "    corners = np.array([[-length / 2, -length / 2, length / 2, length / 2, -length / 2, -length / 2, length / 2, length / 2],\n",
    "                        [width / 2, -width / 2, -width / 2, width / 2, width / 2, -width / 2, -width / 2, width / 2],\n",
    "                        [0, 0, 0, 0, height, height, height, height]])\n",
    "    \n",
    "    rotMat = np.array([[np.cos(θ) , -np.sin(θ) , 0],\n",
    "                       [np.sin(θ) ,  np.cos(θ) , 0],\n",
    "                       [    0     ,     0      , 1]])\n",
    "    if rotation:\n",
    "        cornersPos = (np.dot(rotMat,corners)+np.tile([x,y,z],(8,1)).T).transpose()\n",
    "        corner1,corner2,corner3,corner4,corner5,corner6,corner7,corner8 = cornersPos[0],cornersPos[1],cornersPos[2],cornersPos[3],cornersPos[4],cornersPos[5],cornersPos[6],cornersPos[7]\n",
    "    else:\n",
    "        cornersPos = (corners + np.tile([x,y,z],(8,1)).T).transpose()\n",
    "        corner1,corner2,corner3,corner4,corner5,corner6,corner7,corner8 = cornersPos[0],cornersPos[1],cornersPos[2],cornersPos[3],cornersPos[4],cornersPos[5],cornersPos[6],cornersPos[7]\n",
    "    \n",
    "    return list(corner1),list(corner2),list(corner3),list(corner4),list(corner5),list(corner6),list(corner7),list(corner8)\n",
    "\n",
    "def createBBox(bounding_box,C1,C2,C3,C4,C5,C6,C7,C8,color=\"yellow\"):\n",
    "    bounding_box.append(\n",
    "        {\n",
    "            \"color\":color,\n",
    "            \"vertices\":[C1,C2,C3,C4,C1]\n",
    "        })\n",
    "    bounding_box.append(\n",
    "        {\n",
    "            \"color\":color,\n",
    "            \"vertices\":[C1,C4,C8,C5,C1]\n",
    "        })\n",
    "    bounding_box.append(\n",
    "        {\n",
    "            \"color\":color,\n",
    "            \"vertices\":[C1,C2,C6,C5,C1]\n",
    "        })\n",
    "    bounding_box.append(\n",
    "        {\n",
    "            \"color\":color,\n",
    "            \"vertices\":[C2,C6,C7,C3,C2]\n",
    "        })\n",
    "    bounding_box.append(\n",
    "        {\n",
    "            \"color\":color,\n",
    "            \"vertices\":[C3,C7,C8,C4,C3]\n",
    "        })\n",
    "    return bounding_box"
   ]
  },
  {
   "cell_type": "code",
   "execution_count": 3,
   "metadata": {},
   "outputs": [
    {
     "data": {
      "application/vnd.jupyter.widget-view+json": {
       "model_id": "9d1499c55edb4a449b88b7e77d388273",
       "version_major": 2,
       "version_minor": 0
      },
      "text/plain": [
       "Renderer(camera=PerspectiveCamera(aspect=1.6, fov=90.0, position=(0.007973304018378258, 36.71273982524872, 7.7…"
      ]
     },
     "metadata": {},
     "output_type": "display_data"
    },
    {
     "data": {
      "application/vnd.jupyter.widget-view+json": {
       "model_id": "a9a99a32273d47a39a33d1d74e1dd772",
       "version_major": 2,
       "version_minor": 0
      },
      "text/plain": [
       "HBox(children=(Label(value='Point size:'), FloatSlider(value=0.02, max=0.2, step=0.0002), Label(value='Backgro…"
      ]
     },
     "metadata": {},
     "output_type": "display_data"
    }
   ],
   "source": [
    "KITTI_PATH = path+ \"/data/KITTI/object/training/\"\n",
    "PointRCNN_PATH2 = path+ \"/PointRCNN/pretrained_model.pth\"\n",
    "PointRCNN_PATH = path+ \"PointRCNN/resultdata/data/\"\n",
    "\n",
    "PC_ID = '%06d' % 2300 # [0 : 7480] \n",
    "\n",
    "points = io_bin.read_bin(KITTI_PATH+\"velodyne/\"+PC_ID+\".bin\",shape=(-1,4))['points']\n",
    "points['z'] += VELODYNE_HEIGHT\n",
    "\n",
    "assert os.path.exists(KITTI_PATH+\"label_2/\"+PC_ID+\".txt\"), \"File \"+KITTI_PATH+\"label_2/\"+PC_ID+\".txt doesn't exist !\"\n",
    "file_label_gt = open(KITTI_PATH+\"label_2/\"+PC_ID+\".txt\",\"r\")\n",
    "labels_gt = file_label_gt.readlines()\n",
    "file_label_gt.close()\n",
    "\n",
    "assert os.path.exists(PointRCNN_PATH+PC_ID+\".txt\"), \"File \"+PointRCNN_PATH+PC_ID+\".txt doesn't exist !\"\n",
    "file_label_pred = open(PointRCNN_PATH+PC_ID+\".txt\",\"r\")\n",
    "labels_pred = file_label_pred.readlines()\n",
    "file_label_pred.close()\n",
    "\n",
    "labels_clean_gt = []\n",
    "for i,label in enumerate(labels_gt):\n",
    "    labels_gt[i]=label[:-2]\n",
    "    if labels_gt[i].split(\" \")[0] in [\"Car\", \"Van\", \"Truck\"]:\n",
    "        labels_clean_gt.append(extractBB(labels_gt[i],gt=True))\n",
    "\n",
    "labels_clean_pred = []\n",
    "for i,label in enumerate(labels_pred):\n",
    "    labels_pred[i]=label[:-2]\n",
    "    if labels_pred[i].split(\" \")[0] == \"Car\":\n",
    "        labels_clean_pred.append(extractBB(labels_pred[i],gt=False))\n",
    "\n",
    "bounding_box = []\n",
    "colors = {\"GT\":'blue',\"Pred\":\"yellow\"}\n",
    "\n",
    "boxes_gt = list()\n",
    "for label in labels_clean_gt: \n",
    "    object_type,height,width,length,x_tmp,y_tmp,z_tmp,θ = label\n",
    "    x,y,z,θ = z_tmp,-x_tmp,y_tmp-VELODYNE_HEIGHT,np.pi/2-θ\n",
    "    C1,C2,C3,C4,C5,C6,C7,C8 = getCorners(height,width,length,x,y,z,θ,rotation=True)\n",
    "    bounding_box = createBBox(bounding_box,C1,C2,C3,C4,C5,C6,C7,C8,colors[\"GT\"])\n",
    "    boxes_gt.append(list((getCorners(height,width,length,x,y,z,θ,rotation=True))))\n",
    "    \n",
    "boxes_pred = list()\n",
    "for label in labels_clean_pred: \n",
    "    object_type,height,width,length,x_tmp,y_tmp,z_tmp,θ = label\n",
    "    x,y,z,θ = z_tmp,-x_tmp,y_tmp-VELODYNE_HEIGHT,np.pi/2-θ\n",
    "    C1,C2,C3,C4,C5,C6,C7,C8 = getCorners(height,width,length,x,y,z,θ,rotation=True)\n",
    "    bounding_box = createBBox(bounding_box,C1,C2,C3,C4,C5,C6,C7,C8,colors[\"Pred\"])\n",
    "    boxes_pred.append(list((getCorners(height,width,length,x,y,z,θ,rotation=True))))\n",
    "\n",
    "    \n",
    "cloud = PyntCloud(points)\n",
    "cloud.plot(initial_point_size=0.02, polylines=bounding_box)"
   ]
  },
  {
   "cell_type": "code",
   "execution_count": 6,
   "metadata": {},
   "outputs": [
    {
     "data": {
      "text/plain": [
       "['Car 0.98 0 2.29 0.00 228.49 332.57 374.00 1.42 1.57 4.10 -2.83 1.80 3.04 1.59\\n',\n",
       " 'Car 0.00 0 1.66 499.50 186.11 555.36 231.99 1.38 1.53 3.58 -2.73 1.84 24.16 1.55\\n',\n",
       " 'Car 0.00 0 -1.67 658.75 182.85 709.34 222.44 1.49 1.65 4.06 2.95 1.92 29.78 -1.57\\n',\n",
       " 'Car 0.00 1 -1.52 550.60 183.78 580.17 210.69 1.48 1.54 4.05 -2.63 2.15 42.73 -1.58\\n',\n",
       " 'DontCare -1 -1 -10 585.25 177.30 647.64 197.65 -1 -1 -1 -1000 -1000 -1000 -10\\n']"
      ]
     },
     "execution_count": 6,
     "metadata": {},
     "output_type": "execute_result"
    }
   ],
   "source": [
    "file_label_gt = open(KITTI_PATH+\"label_2/\"+PC_ID+\".txt\",\"r\")\n",
    "labels_gt = file_label_gt.readlines()\n",
    "labels_gt"
   ]
  },
  {
   "cell_type": "code",
   "execution_count": 7,
   "metadata": {},
   "outputs": [
    {
     "data": {
      "text/plain": [
       "[('Car', 1.42, 1.57, 4.1, -2.83, 1.8, 3.04, 1.5),\n",
       " ('Car', 1.38, 1.53, 3.58, -2.73, 1.84, 24.16, 1.5),\n",
       " ('Car', 1.49, 1.65, 4.06, 2.95, 1.92, 29.78, -1.5),\n",
       " ('Car', 1.48, 1.54, 4.05, -2.63, 2.15, 42.73, -1.5)]"
      ]
     },
     "execution_count": 7,
     "metadata": {},
     "output_type": "execute_result"
    }
   ],
   "source": [
    "labels_clean_gt"
   ]
  },
  {
   "cell_type": "code",
   "execution_count": 7,
   "metadata": {},
   "outputs": [],
   "source": [
    "def draw_simple(pc):\n",
    "    fig = mlab.figure(figure=None, bgcolor=(0,0,0), fgcolor=None, engine=None, size=(1600, 1000))\n",
    "    mlab.points3d(pc[:,0], pc[:,1], pc[:,2], mode='point', colormap = 'gnuplot', scale_factor=1, figure=fig)\n",
    "    return fig\n",
    "\n",
    "def draw_gt_boxes3d(gt_boxes3d, fig, thres = 0, color=(1,1,1), line_width=1, draw_text=True, text_scale=(1,1,1), color_list=None):\n",
    "\n",
    "    num = len(gt_boxes3d)\n",
    "\n",
    "    for n in range(num):\n",
    "        b = gt_boxes3d[n]\n",
    "        if color_list is not None:\n",
    "            color = color_list[n] \n",
    "        if n >= thres:\n",
    "            color = (0,1,0)\n",
    "        else:\n",
    "            color = (1,0,0)\n",
    "        if draw_text: mlab.text3d(b[4,0], b[4,1], b[4,2], '%d'%n, scale=text_scale, color=color, figure=fig)\n",
    "        for k in range(0,4):\n",
    "            #http://docs.enthought.com/mayavi/mayavi/auto/mlab_helper_functions.html\n",
    "            i,j=k,(k+1)%4\n",
    "            mlab.plot3d([b[i,0], b[j,0]], [b[i,1], b[j,\n",
    "                                                     1]], [b[i,2], b[j,2]], color=color, tube_radius=None, line_width=line_width, figure=fig)\n",
    "\n",
    "            i,j=k+4,(k+1)%4 + 4\n",
    "            mlab.plot3d([b[i,0], b[j,0]], [b[i,1], b[j,1]], [b[i,2], b[j,2]], color=color, tube_radius=None, line_width=line_width, figure=fig)\n",
    "\n",
    "            i,j=k,k+4\n",
    "            mlab.plot3d([b[i,0], b[j,0]], [b[i,1], b[j,1]], [b[i,2], b[j,2]], color=color, tube_radius=None, line_width=line_width, figure=fig)\n",
    "    mlab.show()\n",
    "    return fig\n",
    "    #mlab.view(azimuth=180, elevation=70, focalpoint=[ 12.0909996 , -1.04700089, -2.03249991], distance=62.0, figure=fig)\n",
    "    \n"
   ]
  },
  {
   "cell_type": "code",
   "execution_count": 13,
   "metadata": {},
   "outputs": [],
   "source": [
    "all_box = list()\n",
    "#for each in range(len(bounding_box)):\n",
    "all_box.append(boxes_gt)\n",
    "all_box.append(boxes_pred)"
   ]
  },
  {
   "cell_type": "code",
   "execution_count": 15,
   "metadata": {},
   "outputs": [],
   "source": [
    "from mayavi import mlab\n",
    "import numpy as np\n",
    "\n",
    "c = np.random.rand(200, 3)\n",
    "r = np.random.rand(200) / 100.\n",
    "\n",
    "mlab.points3d(c[:1, 0], c[:1, 1], c[:1, 2], r[:1], color=(0.23, 0.4, 0.5))\n",
    "\n",
    "#mlab.points3d(c[50:, 0], c[50:, 1], c[50:, 2], r[50:], color=(0.13, 0.35, 0.1235))\n",
    "#np.repeat((0.13, 0.35, 0.1235), 2, axis=0)\n",
    "#draw_lidar_coloured(c, (0.13, 0.35, 0.1235),1)\n",
    "#draw_lidar_coloured(0, (0.13, 0.35, 0.1235),0)\n",
    "\n",
    "mlab.show()"
   ]
  },
  {
   "cell_type": "code",
   "execution_count": 14,
   "metadata": {},
   "outputs": [],
   "source": [
    "from mayavi import mlab\n",
    "#mlab.clf\n",
    "fig = draw_simple(points.to_numpy().astype(float))\n",
    "#fig = draw_lidar_colored(points.to_numpy().astype(float))\n",
    "thres = len(boxes_gt)\n",
    "all_boxes = np.concatenate(all_box)\n",
    "fig = draw_gt_boxes3d(all_boxes, fig,thres = thres,color=(0,1,0))\n",
    "#draw_gt_boxes3d(np.asarray(boxes_pred), fig,color=(1,0,0))"
   ]
  },
  {
   "cell_type": "code",
   "execution_count": null,
   "metadata": {},
   "outputs": [],
   "source": [
    "from mayavi import mlab\n",
    "mlab.close()"
   ]
  }
 ],
 "metadata": {
  "kernelspec": {
   "display_name": "Python 3",
   "language": "python",
   "name": "python3"
  },
  "language_info": {
   "codemirror_mode": {
    "name": "ipython",
    "version": 3
   },
   "file_extension": ".py",
   "mimetype": "text/x-python",
   "name": "python",
   "nbconvert_exporter": "python",
   "pygments_lexer": "ipython3",
   "version": "3.7.1"
  }
 },
 "nbformat": 4,
 "nbformat_minor": 2
}
