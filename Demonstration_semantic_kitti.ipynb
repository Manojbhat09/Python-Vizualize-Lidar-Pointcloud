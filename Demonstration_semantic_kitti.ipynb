{
 "cells": [
  {
   "cell_type": "code",
   "execution_count": 1,
   "metadata": {},
   "outputs": [],
   "source": [
    "from pyntcloud import PyntCloud\n",
    "from pyntcloud.io import bin as io_bin\n",
    "import numpy as np\n",
    "import pandas as pd\n",
    "import os\n",
    "\n",
    "from pythreejs import *\n",
    "import numpy as np\n",
    "from IPython.display import display\n",
    "from ipywidgets import HTML, Text, Output, VBox\n",
    "from traitlets import link, dlink"
   ]
  },
  {
   "cell_type": "code",
   "execution_count": 3,
   "metadata": {},
   "outputs": [],
   "source": [
    "VELODYNE_HEIGHT = 1.73\n",
    "\n",
    "def extractBB(label,gt=True):\n",
    "    label_split = label.split(\" \")\n",
    "    if gt:\n",
    "        return label_split[0],float(label_split[-7]),float(label_split[-6]),float(label_split[-5]),float(label_split[-4]),float(label_split[-3]),float(label_split[-2]),float(label_split[-1])\n",
    "    else:\n",
    "        return label_split[0],float(label_split[-8]),float(label_split[-7]),float(label_split[-6]),float(label_split[-5]),float(label_split[-4]),float(label_split[-3]),float(label_split[-2])\n",
    "    \n",
    "def getCorners(height,width,length,x,y,z,θ,rotation=True):\n",
    "    \n",
    "    corners = np.array([[-length / 2, -length / 2, length / 2, length / 2, -length / 2, -length / 2, length / 2, length / 2],\n",
    "                        [width / 2, -width / 2, -width / 2, width / 2, width / 2, -width / 2, -width / 2, width / 2],\n",
    "                        [0, 0, 0, 0, height, height, height, height]])\n",
    "    \n",
    "    rotMat = np.array([[np.cos(θ) , -np.sin(θ) , 0],\n",
    "                       [np.sin(θ) ,  np.cos(θ) , 0],\n",
    "                       [    0     ,     0      , 1]])\n",
    "    if rotation:\n",
    "        cornersPos = (np.dot(rotMat,corners)+np.tile([x,y,z],(8,1)).T).transpose()\n",
    "        corner1,corner2,corner3,corner4,corner5,corner6,corner7,corner8 = cornersPos[0],cornersPos[1],cornersPos[2],cornersPos[3],cornersPos[4],cornersPos[5],cornersPos[6],cornersPos[7]\n",
    "    else:\n",
    "        cornersPos = (corners + np.tile([x,y,z],(8,1)).T).transpose()\n",
    "        corner1,corner2,corner3,corner4,corner5,corner6,corner7,corner8 = cornersPos[0],cornersPos[1],cornersPos[2],cornersPos[3],cornersPos[4],cornersPos[5],cornersPos[6],cornersPos[7]\n",
    "    \n",
    "    return list(corner1),list(corner2),list(corner3),list(corner4),list(corner5),list(corner6),list(corner7),list(corner8)\n",
    "\n",
    "def createBBox(bounding_box,C1,C2,C3,C4,C5,C6,C7,C8,color=\"yellow\"):\n",
    "    bounding_box.append(\n",
    "        {\n",
    "            \"color\":color,\n",
    "            \"vertices\":[C1,C2,C3,C4,C1]\n",
    "        })\n",
    "    bounding_box.append(\n",
    "        {\n",
    "            \"color\":color,\n",
    "            \"vertices\":[C1,C4,C8,C5,C1]\n",
    "        })\n",
    "    bounding_box.append(\n",
    "        {\n",
    "            \"color\":color,\n",
    "            \"vertices\":[C1,C2,C6,C5,C1]\n",
    "        })\n",
    "    bounding_box.append(\n",
    "        {\n",
    "            \"color\":color,\n",
    "            \"vertices\":[C2,C6,C7,C3,C2]\n",
    "        })\n",
    "    bounding_box.append(\n",
    "        {\n",
    "            \"color\":color,\n",
    "            \"vertices\":[C3,C7,C8,C4,C3]\n",
    "        })\n",
    "    return bounding_box\n",
    "\n",
    "def load_label(file_name):\n",
    "    labels = np.fromfile(file_name, dtype=np.int32).reshape((-1))    \n",
    "    return labels\n",
    "\n",
    "def hsv2rgb(h,s,v):\n",
    "    import colorsys\n",
    "    return list(round(i * 255) for i in colorsys.hsv_to_rgb(h,s,v))\n",
    "        \n",
    "def hsbcolor(max_expected = 10, sat = 175, bri = 175):\n",
    "    hue_factor = 255 / max_expected\n",
    "    rgb_list = [hsv2rgb(((i*hue_factor)%255)/255, sat/255, bri/255) for i in range(max_expected)]\n",
    "    color_list = np.array(rgb_list, dtype=np.uint8)\n",
    "    return color_list\n",
    "     "
   ]
  },
  {
   "cell_type": "code",
   "execution_count": 92,
   "metadata": {},
   "outputs": [],
   "source": [
    "# red = np.array([255, 0, 0], dtype=np.uint8)\n",
    "# green = np.array([0, 255, 0], dtype=np.uint8)\n",
    "# blue = np.array([0, 0, 255], dtype=np.uint8)\n",
    "# list0fpointindex = np.arange(500).tolist()\n",
    "# classcolorlist = [green if i in list0fpointindex else red for i in range(len(new_pts))]"
   ]
  },
  {
   "cell_type": "code",
   "execution_count": null,
   "metadata": {},
   "outputs": [],
   "source": [
    "path = \"data_seq/004538.bin\" # Bin file data path\n",
    "labelpath = \"label_seq/004538.label\" # Label i.e indices path"
   ]
  },
  {
   "cell_type": "code",
   "execution_count": 117,
   "metadata": {},
   "outputs": [],
   "source": [
    "# Make seperate colors for segmentations\n",
    "list0fpointindex = load_label(labelpath).tolist()\n",
    "assert len(new_pts) == len(list0fpointindex) \n",
    "N = len(np.unique(list0fpointindex)) # Number of segmentation classes\n",
    "colorlist = hsbcolor(N) # Color list\n",
    "labelcolordict = {each:id for id,each in enumerate(np.unique(list0fpointindex))}\n",
    "classcolorlist = [colorlist[labelcolordict[each]] for each in list0fpointindex]"
   ]
  },
  {
   "cell_type": "code",
   "execution_count": 118,
   "metadata": {},
   "outputs": [
    {
     "data": {
      "application/vnd.jupyter.widget-view+json": {
       "model_id": "45a70db6b6ff43e8ad33552852740e05",
       "version_major": 2,
       "version_minor": 0
      },
      "text/plain": [
       "Renderer(camera=PerspectiveCamera(aspect=1.6, fov=90.0, position=(-1.263601303100586, 72.656245470047, 3.11940…"
      ]
     },
     "metadata": {},
     "output_type": "display_data"
    },
    {
     "data": {
      "application/vnd.jupyter.widget-view+json": {
       "model_id": "5786d951a9864c7baa62d4029d27dc82",
       "version_major": 2,
       "version_minor": 0
      },
      "text/plain": [
       "HBox(children=(Label(value='Point size:'), FloatSlider(value=0.02, max=0.2, step=0.0002), Label(value='Backgro…"
      ]
     },
     "metadata": {},
     "output_type": "display_data"
    }
   ],
   "source": [
    "# Vizualize pointcloud with intensity\n",
    "new_points = np.fromfile(path, dtype=np.float32)\n",
    "new_points = new_points.reshape((-1, 4))\n",
    "new_pts = pd.DataFrame(new_points[:, 0:3], columns=['x', 'y', 'z'])\n",
    "new_pts[\"red\"]  = 0\n",
    "new_pts[\"green\"]  = 0\n",
    "new_pts[\"blue\"]  = 0\n",
    "new_pts[[\"red\",\"green\", \"blue\"]] = classcolorlist\n",
    "# new_pts.loc[list0fpointindex,[\"red\",\"green\", \"blue\"]] = blue\n",
    "cloud = PyntCloud(new_pts)\n",
    "cloud.plot(initial_point_size=0.02)"
   ]
  }
 ],
 "metadata": {
  "kernelspec": {
   "display_name": "Python 3",
   "language": "python",
   "name": "python3"
  },
  "language_info": {
   "codemirror_mode": {
    "name": "ipython",
    "version": 3
   },
   "file_extension": ".py",
   "mimetype": "text/x-python",
   "name": "python",
   "nbconvert_exporter": "python",
   "pygments_lexer": "ipython3",
   "version": "3.7.1"
  }
 },
 "nbformat": 4,
 "nbformat_minor": 2
}
